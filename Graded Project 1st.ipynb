{
 "cells": [
  {
   "cell_type": "code",
   "execution_count": 9,
   "id": "e3acf85a-7ac1-4f4d-a5cf-77f64716e449",
   "metadata": {},
   "outputs": [
    {
     "name": "stdout",
     "output_type": "stream",
     "text": [
      "Sales Summary:\n",
      "1. Total units sold: total_units_Sold\n",
      "2. Difference between Category A and Category B: 40 units\n",
      "3. Ratio of units sold (Category A to Category B): 0.73\n"
     ]
    }
   ],
   "source": [
    "###Task 1: Sales Data Summary\n",
    "###Objective: XYZ Retail wants to automate the process of calculating basic sales metrics.\n",
    "# - Assign the number of units sold in two categories, `Category A` and `Category B`, to variables.\n",
    "# - Calculate the total units sold, the difference between the categories, and the ratio of units sold.\n",
    "# - Print these results clearly for the management team.\n",
    "\n",
    "category_A=110\n",
    "category_B=150\n",
    "\n",
    "## Calculate the Total units sold\n",
    "total_units_Sold = category_A + category_B\n",
    "\n",
    "## Calculate the Difference between the categories\n",
    "difference_units = abs(category_A - category_B) \n",
    "\n",
    "## Calculate the Ratio of units sold (Category A to Category B)\n",
    "ratio_of_units = category_A / category_B\n",
    "\n",
    "# Print the results clearly for the management team\n",
    "print(\"Sales Summary:\")\n",
    "\n",
    "print(f\"1. Total units sold: {total_units_Sold}\")\n",
    "print(f\"2. Difference between Category A and Category B: {difference_units} units\")\n",
    "print(f\"3. Ratio of units sold (Category A to Category B): {ratio_of_units:.2f}\")\n"
   ]
  },
  {
   "cell_type": "code",
   "execution_count": 19,
   "id": "58425b4c-e0a0-4cc8-80a8-5851b3f44fa2",
   "metadata": {},
   "outputs": [
    {
     "name": "stdout",
     "output_type": "stream",
     "text": [
      "Dear John Doe, at 30, you are eligible for our premium loyalty program.\n"
     ]
    }
   ],
   "source": [
    "###Task 2: Customer Age Data\n",
    "##Objective: Understanding the age distribution of customers is crucial for marketing strategies.\n",
    "# - Store a customer's name and age.\n",
    "# - Convert the age into a string and create a personalized marketing message like \"Dear John Doe, at 30, you’re eligible for our premium loyalty program.\"\n",
    "# - Print the message for use in email campaigns.\n",
    "\n",
    "\n",
    "# Store a customer's name and age.\n",
    "customer_name = \"John Doe\"\n",
    "customer_age = 30\n",
    "\n",
    "\n",
    "## Convert the age into a string \n",
    "age_as_string=str(customer_age) ##converting age into string is not necessary here we are doing it bcz of task given.\n",
    "\n",
    "## personalized Marketing message \n",
    "marketing_message = f\"Dear {customer_name}, at {age_as_string}, you are eligible for our premium loyalty program\" + \".\"\n",
    "\n",
    "# Print the message for use in email campaigns.\n",
    "print(marketing_message)\n",
    "\n"
   ]
  },
  {
   "cell_type": "code",
   "execution_count": 23,
   "id": "44695712-415b-4f2b-86bd-65c7da3ed3f7",
   "metadata": {},
   "outputs": [
    {
     "name": "stdout",
     "output_type": "stream",
     "text": [
      "Highest Price: 2700\n",
      "Lowest Price: 250\n",
      "Mid-range Products: [850, 1050, 2400, 1750, 2300, 1850]\n",
      "Updated Product List: [250, 850, 1050, 2400, 1750, 2300, 2700, 1850, 3500]\n"
     ]
    }
   ],
   "source": [
    "###Task 3: Product List Management\n",
    "##Objective: Efficient management of the product list is essential for inventory control.\n",
    "# - Given a list of product prices, extract the highest and lowest prices.\n",
    "# - Create a new list with the mid-range products.\n",
    "# - Add a new premium product price to the list and print the updated list for the inventory team.\n",
    "\n",
    "\n",
    "# Initial list of product prices\n",
    "productl_ist_of_prices = [250, 850, 1050, 2400, 1750, 2300, 2700, 1850]  \n",
    "\n",
    "# Extract the highest and lowest prices\n",
    "highest_product_price = max(productl_ist_of_prices)\n",
    "lowest_product_price = min(productl_ist_of_prices)\n",
    "\n",
    "# Create a new list with mid-range products (excluding highest and lowest prices)\n",
    "mid_range_prices_list = []\n",
    "\n",
    "for price in productl_ist_of_prices:\n",
    "    if lowest_product_price < price < highest_product_price:\n",
    "        mid_range_prices_list.append(price)\n",
    "\n",
    "# Add a new premium product price\n",
    "new_premium_product_price = 3500 \n",
    "productl_ist_of_prices.append(new_premium_product_price)\n",
    "\n",
    "# Print the results for the inventory team\n",
    "print(f\"Highest Price: {highest_product_price}\")\n",
    "print(f\"Lowest Price: {lowest_product_price}\")\n",
    "print(f\"Mid-range Products: {mid_range_prices_list}\")\n",
    "print(f\"Updated Product List: {productl_ist_of_prices}\")"
   ]
  },
  {
   "cell_type": "code",
   "execution_count": 1,
   "id": "6898d7f1-a54a-47f8-b6e9-892e12fca347",
   "metadata": {},
   "outputs": [
    {
     "name": "stdout",
     "output_type": "stream",
     "text": [
      "Product Name: Wireless Headphones\n",
      "SKU: WH12345\n"
     ]
    }
   ],
   "source": [
    "###Task 4: Inventory Lookup\n",
    "##Objective: Quick access to product details is important for customer service representatives.\n",
    "# - Create a dictionary storing key information about a product (e.g., `product_name`, `SKU`, `price`, `category`).\n",
    "# - Print the product name and SKU when queried by a customer service representative.\n",
    "\n",
    "##if we have 2 or 3 products so how to do it, add more product list items????\n",
    "\n",
    "product_details = {\n",
    "    'product_name': 'Wireless Headphones','SKU': 'WH12345','price': 99.99,'category': 'Electronics' \n",
    "  \n",
    "    }\n",
    "\n",
    "# Querying product name and SKU\n",
    "print(\"Product Name:\", product_details['product_name'])\n",
    "print(\"SKU:\", product_details['SKU'])"
   ]
  },
  {
   "cell_type": "code",
   "execution_count": 51,
   "id": "4e226d6f-bc09-4597-b96a-ee43ec828360",
   "metadata": {},
   "outputs": [
    {
     "name": "stdin",
     "output_type": "stream",
     "text": [
      "Enter the current stock level:  60\n"
     ]
    },
    {
     "name": "stdout",
     "output_type": "stream",
     "text": [
      "Stock is sufficient.\n"
     ]
    },
    {
     "name": "stdin",
     "output_type": "stream",
     "text": [
      "Enter the current stock level:  40\n"
     ]
    },
    {
     "name": "stdout",
     "output_type": "stream",
     "text": [
      "Reorder Now!\n"
     ]
    }
   ],
   "source": [
    "###Task 5: Stock Level Alert System\n",
    "##Objective: Ensuring that stock levels are maintained is critical to avoid stockouts.\n",
    "# - Write the code that takes the stock level as input.\n",
    "# - If stock is below a certain threshold, print a \"Reorder Now\" alert. If stock is above the threshold, print \"Stock is sufficient.\"\n",
    "\n",
    "\n",
    "maximum=2\n",
    "index=0\n",
    "while index<maximum:\n",
    "    stock_level = int(input(\"Enter the current stock level: \"))\n",
    "\n",
    "# Define threshold of stock \n",
    "    threshold = 50\n",
    "\n",
    "# Check if stock level is below or above the threshold\n",
    "    if stock_level < threshold:\n",
    "        print(\"Reorder Now!\")\n",
    "    else:\n",
    "        print(\"Stock is sufficient.\")\n",
    "    index=index+1"
   ]
  },
  {
   "cell_type": "code",
   "execution_count": 63,
   "id": "44fe2dae-10fc-4d0a-9532-05e38b1d20fb",
   "metadata": {},
   "outputs": [
    {
     "name": "stdout",
     "output_type": "stream",
     "text": [
      "Using For Loop:\n",
      "LAPTOP\n",
      "SMARTPHONE\n",
      "HEADPHONES\n",
      "TABLET\n",
      "MONITOR\n",
      "\n",
      "Using While Loop:\n",
      "LAPTOP\n",
      "SMARTPHONE\n",
      "HEADPHONES\n",
      "TABLET\n",
      "MONITOR\n"
     ]
    }
   ],
   "source": [
    "###Task 6: Sales Report Formatting\n",
    "##Objective: Formatting the sales data for management reports is crucial.\n",
    "# - Given a list of products sold, print each product name in uppercase for better visibility in reports.\n",
    "# - Implement both a `for` loop and a `while` loop for this task to ensure code flexibility.\n",
    "\n",
    "# List of products sold\n",
    "products_sold = ['laptop', 'smartphone', 'headphones', 'tablet', 'monitor']\n",
    "\n",
    "# Using a for loop to print each product in uppercase\n",
    "print(\"Using For Loop:\")\n",
    "for product in products_sold:\n",
    "    print(product.upper())\n",
    "\n",
    "# Using a while loop to print each product in uppercase\n",
    "print(\"\\nUsing While Loop:\")\n",
    "index = 0\n",
    "while index < len(products_sold):\n",
    "    print(products_sold[index].upper())\n",
    "    index=index+1\n",
    "\n"
   ]
  },
  {
   "cell_type": "code",
   "execution_count": 79,
   "id": "33464a4e-15c5-40ea-95ac-0ff62dd0eeb5",
   "metadata": {},
   "outputs": [
    {
     "name": "stdout",
     "output_type": "stream",
     "text": [
      "The area of Section A is 200 square units.\n",
      "The area of Section B is 320 square units.\n",
      "The area of Section C is 720 square units.\n"
     ]
    }
   ],
   "source": [
    "###Task 7: Area Calculation for Store Layout\n",
    "##Objective: Accurate area calculations are needed to plan new store layouts.\n",
    "# - Create a function that calculates the area of a section of the store based on length and width.\n",
    "# - Use this function to calculate and print the area of several store sections.\n",
    "\n",
    "\n",
    "# Function to calculate the area of a store section\n",
    "def calculate_area(length, width):\n",
    "    area = length * width \n",
    "    return area\n",
    "\n",
    "# Example store sections with length and width\n",
    "sections = [\n",
    "    {\"name\": \"Section A\", \"length\": 10, \"width\": 20},\n",
    "    {\"name\": \"Section B\", \"length\": 8, \"width\": 40},\n",
    "    {\"name\": \"Section C\", \"length\": 12, \"width\": 60}\n",
    "]\n",
    "\n",
    "# Calculate and print the area for each section\n",
    "for section in sections:\n",
    "    name = section[\"name\"]\n",
    "    length = section[\"length\"]\n",
    "    width = section[\"width\"]\n",
    "    area = calculate_area(length, width)\n",
    "    print(f\"The area of {name} is {area} square units.\")"
   ]
  },
  {
   "cell_type": "code",
   "execution_count": 87,
   "id": "40db4900-91d4-48a3-95ca-7b076c9de502",
   "metadata": {},
   "outputs": [
    {
     "name": "stdout",
     "output_type": "stream",
     "text": [
      "Original Feedback Message: Excellent product quality but delivery was late.\n",
      "\n",
      "Number of Vowels in Feedback: 15\n",
      "\n",
      "Reversed Feedback Message: .etal saw yreviled tub ytilauq tcudorp tnellecxE\n"
     ]
    }
   ],
   "source": [
    "###Task 8: Customer Feedback Analysis\n",
    "##Objective: Analyzing customer feedback is vital to improving service.\n",
    "# - Write the code to count the number of vowels in a customer feedback message.\n",
    "# - Also, reverse the feedback message for a unique data presentation in reports.\n",
    "\n",
    "# Customer feedback message\n",
    "feedback = \"Excellent product quality but delivery was late.\"\n",
    "\n",
    "# Step 1: Count the number of vowels in the feedback\n",
    "def count_vowels(feedback):\n",
    "    vowels = \"aeiouAEIOU\"\n",
    "    vowel_count = 0\n",
    "    for index in feedback:\n",
    "        if index in vowels:\n",
    "            vowel_count =vowel_count+ 1\n",
    "    return vowel_count\n",
    "    \n",
    "num_vowels = count_vowels(feedback)\n",
    "\n",
    "# Step 2: Reverse the feedback message\n",
    "reversed_feedback = feedback[::-1]\n",
    "\n",
    "# Print the results\n",
    "print(\"Original Feedback Message:\",feedback)\n",
    "print(\"\\nNumber of Vowels in Feedback:\", num_vowels)\n",
    "print(\"\\nReversed Feedback Message:\", reversed_feedback)\n",
    "\n"
   ]
  },
  {
   "cell_type": "code",
   "execution_count": 111,
   "id": "70130089-7533-4a8f-a917-5e420a871a63",
   "metadata": {},
   "outputs": [
    {
     "name": "stdout",
     "output_type": "stream",
     "text": [
      "Eligible products for the discount campaign: {'name': 'Laptop', 'price': 75000}\n",
      "Eligible products for the discount campaign: {'name': 'Smartphone', 'price': 25000}\n",
      "Eligible products for the discount campaign: {'name': 'Tablet', 'price': 30000}\n"
     ]
    }
   ],
   "source": [
    "###Task 9: Price Filtering Tool\n",
    "##Objective: Filtering product prices helps in creating targeted discounts.\n",
    "# - Use list comprehension to filter out products priced below a certain threshold from the product list.\n",
    "# - Print the list of eligible products for a discount campaign.\n",
    "\n",
    "# List of products with their prices\n",
    "products = [\n",
    "    {\"name\": \"Laptop\", \"price\": 75000},\n",
    "    {\"name\": \"Smartphone\", \"price\": 25000},\n",
    "    {\"name\": \"Headphones\", \"price\": 1500},\n",
    "    {\"name\": \"Tablet\", \"price\": 30000},\n",
    "    {\"name\": \"Smartwatch\", \"price\": 5000}\n",
    "]\n",
    "\n",
    "# Define the price threshold\n",
    "price_threshold = 10000\n",
    "\n",
    "# Filter eligible products using list comprehension\n",
    "for product in products:\n",
    "    if product[\"price\"] > price_threshold:\n",
    "        print(\"Eligible products for the discount campaign:\", product)\n",
    "            \n"
   ]
  },
  {
   "cell_type": "code",
   "execution_count": 121,
   "id": "cdbec2fc-f059-478b-a030-42109e14767b",
   "metadata": {},
   "outputs": [
    {
     "name": "stdout",
     "output_type": "stream",
     "text": [
      "Content of 'sales_log.txt':\n",
      "Daily Sales Summary : 2024-12-03\n",
      "Total Sales: $150,000\n",
      "Top Performing Product: Smartphone - $5,000\n",
      "\n"
     ]
    }
   ],
   "source": [
    "###Task 10: Sales Log File Management\n",
    "##Objective: Proper management of sales log files is necessary for compliance and audit purposes.\n",
    "# - Create a text file named `sales_log.txt` to store daily sales summaries.\n",
    "# - Write two lines summarizing the daily sales performance.\n",
    "# - Read and print the content of the file to ensure data integrity.\n",
    "\n",
    "# Step 1: Create and write to the text file\n",
    "with open(\"sales_log.txt\", \"w\") as file:\n",
    "    file.write(\"Daily Sales Summary : 2024-12-03\\n\")\n",
    "    file.write(\"Total Sales: $150,000\\n\")\n",
    "    file.write(\"Top Performing Product: Smartphone - $5,000\\n\")\n",
    "\n",
    "# Step 2: Read and print the content of the file\n",
    "with open(\"sales_log.txt\", \"r\") as file:\n",
    "    content = file.read()\n",
    "\n",
    "# Display the file content\n",
    "print(\"Content of 'sales_log.txt':\")\n",
    "print(content)\n"
   ]
  },
  {
   "cell_type": "code",
   "execution_count": 123,
   "id": "b3b4c9e6-89b2-424a-a9b0-94b4bf1ef506",
   "metadata": {},
   "outputs": [
    {
     "name": "stdout",
     "output_type": "stream",
     "text": [
      "Sales Figures for the Past Week: [15000, 18000, 12000, 17500, 19000, 16000, 15500]\n",
      "Average Daily Sales: $16142.86\n"
     ]
    }
   ],
   "source": [
    "###Task 11: Daily Sales Average\n",
    "##Objective: Calculate the average daily sales for the past week.\n",
    "# - Given a list of sales figures for the last 7 days, calculate the average sales.\n",
    "# - Print the average sales to help the finance team understand the weekly performance.\n",
    "\n",
    "# Sales figures for the past 7 days (in dollars)\n",
    "weekly_sales = [15000, 18000, 12000, 17500, 19000, 16000, 15500]\n",
    "\n",
    "# Step 1: Calculate the average sales\n",
    "average_sales = sum(weekly_sales) / len(weekly_sales)\n",
    "\n",
    "# Step 2: Print the average sales\n",
    "print(\"Sales Figures for the Past Week:\", weekly_sales)\n",
    "print(f\"Average Daily Sales: ${average_sales:.2f}\")"
   ]
  },
  {
   "cell_type": "code",
   "execution_count": 11,
   "id": "d134e453-4501-47f8-b0b0-a4ee2a143ec3",
   "metadata": {},
   "outputs": [
    {
     "name": "stdout",
     "output_type": "stream",
     "text": [
      "Customer Spending Categories:\n",
      "- Anita: Low Spender\n",
      "- Moksh: Medium Spender\n",
      "- Lucky: Medium Spender\n",
      "- Divyansh: High Spender\n"
     ]
    }
   ],
   "source": [
    "###Task 12: Customer Segmentation\n",
    "##Objective: Categorize customers based on their total spending.\n",
    "# - Create a list of customer spending amounts.\n",
    "# Use a loop to categorize customers as \"Low\", \"Medium\", or \"High\" spenders based on their spending amount.\n",
    "# - Print the categorized results to assist in targeted marketing.\n",
    "\n",
    "\n",
    "customers = [\n",
    "    {\"name\": \"Anita\", \"total_spending\": 500},\n",
    "    {\"name\": \"Moksh\", \"total_spending\": 1500},\n",
    "    {\"name\": \"Lucky\", \"total_spending\": 3000},\n",
    "    {\"name\": \"Divyansh\", \"total_spending\": 7000},\n",
    "]\n",
    "\n",
    "segmented_customers = []\n",
    "\n",
    "# Categorize spending levels\n",
    "for customer in customers:\n",
    "    spending = customer[\"total_spending\"]  \n",
    "    \n",
    "    if spending < 1000:\n",
    "        segmented_customers.append((customer[\"name\"], \"Low\"))\n",
    "    elif spending < 5000:\n",
    "        segmented_customers.append((customer[\"name\"], \"Medium\"))\n",
    "    else:\n",
    "        segmented_customers.append((customer[\"name\"], \"High\"))\n",
    "\n",
    "# Print the categorized results to assist in targeted marketing.\n",
    "print(\"Customer Spending Categories:\")\n",
    "for name, category in segmented_customers:\n",
    "    print(f\"- {name}: {category} Spender\")"
   ]
  },
  {
   "cell_type": "code",
   "execution_count": 47,
   "id": "5b562b07-8968-428c-b4b9-69e4a15ff33b",
   "metadata": {},
   "outputs": [
    {
     "name": "stdout",
     "output_type": "stream",
     "text": [
      "Final prices after applying discounts:\n",
      "Product A: Original Price = $1500, Discount = 10%, Final Price = $1350.0\n",
      "Product B: Original Price = $2450, Discount = 25%, Final Price = $1837.5\n",
      "Product C: Original Price = $1700, Discount = 15%, Final Price = $1445.0\n",
      "Product D: Original Price = $1855, Discount = 5%, Final Price = $1762.25\n",
      "Product E: Original Price = $950, Discount = 0%, Final Price = $950.0\n"
     ]
    }
   ],
   "source": [
    "###Task 13: Discount Calculation\n",
    "##Objective: Automate the calculation of discounts for a promotional campaign.\n",
    "# - Write a code that calculates the final price after applying a discount percentage to a product’s original price.\n",
    "# - Test this function on a list of products with different discounts and print the final prices.\n",
    "\n",
    "# Function to calculate the final price after applying a discount\n",
    "def calculate_discounted_price(original_price, discount_percentage):    \n",
    "    final_price = original_price * (1 - discount_percentage / 100)\n",
    "    return round(final_price, 2)\n",
    "    \n",
    "# List of products with their original prices and discount percentages\n",
    "products = [\n",
    "    {\"name\": \"Product A\", \"original_price\": 1500, \"discount\": 10},\n",
    "    {\"name\": \"Product B\", \"original_price\": 2450, \"discount\": 25},\n",
    "    {\"name\": \"Product C\", \"original_price\": 1700, \"discount\": 15},\n",
    "    {\"name\": \"Product D\", \"original_price\": 1855, \"discount\": 5},\n",
    "    {\"name\": \"Product E\", \"original_price\": 950, \"discount\": 0}\n",
    "]\n",
    "\n",
    "# Calculate and print the final prices for each product\n",
    "print(\"Final prices after applying discounts:\")\n",
    "for product in products:\n",
    "    final_price = calculate_discounted_price(product[\"original_price\"], product[\"discount\"])\n",
    "    print(f\"{product['name']}: Original Price = ${product['original_price']}, Discount = {product['discount']}%, Final Price = ${final_price}\")"
   ]
  },
  {
   "cell_type": "code",
   "execution_count": 9,
   "id": "4442282d-0f8d-4012-aeff-8e8543005455",
   "metadata": {},
   "outputs": [
    {
     "name": "stdout",
     "output_type": "stream",
     "text": [
      "Positive\n",
      "Negative\n"
     ]
    }
   ],
   "source": [
    "###Task 14: Customer Feedback Sentiment Analysis\n",
    "##Objective: Basic sentiment analysis of customer feedback.\n",
    "# - Write the Python code that checks if certain positive or negative words (e.g., \"good\", \"bad\", \"happy\", \"disappointed\") are present in customer feedback.\n",
    "# - Print \"Positive\" or \"Negative\" based on the words found in the feedback.\n",
    "\n",
    "# Positive and negative words for sentiment analysis\n",
    "positive_words = [\"good\", \"happy\", \"amazing\", \"excellent\", \"satisfied\"]\n",
    "negative_words = [\"bad\", \"disappointed\", \"poor\", \"late\", \"terrible\"]\n",
    "\n",
    "feedback_messages = [\n",
    "    \"The product quality is good and I am happy with the service.\",\n",
    "    \"Delivery was late, and I am disappointed with the experience.\",\n",
    "]\n",
    "\n",
    "for feedback in feedback_messages:\n",
    "    if any(word in feedback.lower() for word in positive_words):\n",
    "        print(\"Positive\")\n",
    "    elif any(word in feedback.lower() for word in negative_words):\n",
    "        print(\"Negative\")\n",
    "    else:\n",
    "        print(\"Neutral\")"
   ]
  },
  {
   "cell_type": "code",
   "execution_count": 31,
   "id": "15f174a7-2c81-4be2-bf31-2520c5d2229c",
   "metadata": {},
   "outputs": [
    {
     "name": "stdout",
     "output_type": "stream",
     "text": [
      "Updated salaries after applying increments:\n",
      "Anita: Updated Salary = $60000\n",
      "Chahat: Updated Salary = $49500\n",
      "Deepali: Updated Salary = $69000\n",
      "kashish: Updated Salary = $42000\n",
      "Yamini: Updated Salary = $55000\n"
     ]
    }
   ],
   "source": [
    "###Task 15: Employee Salary Increment Calculator\n",
    "##Objective: Calculate the salary increment for employees based on their performance rating.\n",
    "# - Create a dictionary that stores employee names and their performance ratings.\n",
    "# - Write the code that applies a different increment percentage based on the rating.\n",
    "# - Print the updated salary for each employee.\n",
    "\n",
    "# Employee data: names, current salaries, and performance ratings\n",
    "employees = {\n",
    "    \"Anita\": {\"salary\": 50000, \"rating\": 5},\n",
    "    \"Chahat\": {\"salary\": 45000, \"rating\": 3},\n",
    "    \"Deepali\": {\"salary\": 60000, \"rating\": 4},\n",
    "    \"kashish\": {\"salary\": 40000, \"rating\": 2},\n",
    "    \"Yamini\": {\"salary\": 55000, \"rating\": 1},\n",
    "}\n",
    "\n",
    "# Define the increment percentages based on performance ratings\n",
    "increments = {\n",
    "    5: 20,  \n",
    "    4: 15,  \n",
    "    3: 10,  \n",
    "    2: 5,   \n",
    "    1: 0,   \n",
    "}\n",
    "\n",
    "# Calculate and display the updated salaries\n",
    "print(\"Updated salaries after applying increments:\")\n",
    "for name, data in employees.items():\n",
    "    current_salary = data[\"salary\"]\n",
    "    rating = data[\"rating\"]\n",
    "    increment_percentage = increments.get(rating, 0)  \n",
    "    increment_amount = current_salary * (increment_percentage / 100)\n",
    "    updated_salary = current_salary + increment_amount\n",
    "    print(f\"{name}: Updated Salary = ${round(updated_salary)}\")"
   ]
  },
  {
   "cell_type": "code",
   "execution_count": 43,
   "id": "1787b7cb-bb96-4f13-86e0-430c6b76d8ae",
   "metadata": {},
   "outputs": [
    {
     "name": "stdout",
     "output_type": "stream",
     "text": [
      "Monthly sales report has been generated and saved as 'monthly_report.txt'.\n",
      "Total Sales: $7390\n",
      "Average Sales: $246.33\n"
     ]
    }
   ],
   "source": [
    "###Task 16: Monthly Sales Report Generator\n",
    "##Objective: Generate a simple text-based monthly sales report.\n",
    "# - Create a list of daily sales figures for a month.\n",
    "# - Calculate the total and average sales for the month.\n",
    "# - Write these statistics to a text file named monthly_report.txt.\n",
    "\n",
    "# List of daily sales figures for a month (example data)\n",
    "daily_sales = [\n",
    "    150, 200, 250, 300, 180, 220, 310, 400, 100, 150,\n",
    "    200, 350, 280, 300, 190, 220, 400, 310, 100, 250,\n",
    "    200, 330, 300, 150, 200, 250, 400, 300, 180, 220\n",
    "]\n",
    "\n",
    "# Calculate total sales\n",
    "total_sales = sum(daily_sales)\n",
    "\n",
    "# Calculate average sales\n",
    "average_sales = total_sales / len(daily_sales)\n",
    "\n",
    "# Write the report to a text file\n",
    "with open(\"monthly_report.txt\", \"w\") as file:\n",
    "    file.write(f\"Total Sales: ${total_sales}\\n\")\n",
    "    file.write(f\"Average Sales: ${round(average_sales, 2)}\\n\")\n",
    "\n",
    "# Print a success message\n",
    "print(\"Monthly sales report has been generated and saved as 'monthly_report.txt'.\")\n",
    "print(f\"Total Sales: ${total_sales}\")\n",
    "print(f\"Average Sales: ${round(average_sales, 2)}\")\n"
   ]
  },
  {
   "cell_type": "code",
   "execution_count": 47,
   "id": "1ffd83b9-93b9-48b2-8ac7-2dd9907858bb",
   "metadata": {},
   "outputs": [
    {
     "name": "stdout",
     "output_type": "stream",
     "text": [
      "Product B needs to be reordered. Current stock: 20\n",
      "Product C needs to be reordered. Current stock: 10\n",
      "Product E needs to be reordered. Current stock: 5\n"
     ]
    }
   ],
   "source": [
    "###Task 17: Stock Replenishment Planning\n",
    "##Objective: Determine which products need replenishment based on sales data.\n",
    "# - Given a list of products and their current stock levels, compare these against a predefined threshold.\n",
    "# - Print a list of products that need to be reordered to maintain adequate stock levels.\n",
    "\n",
    "# List of products with their current stock levels and sales data\n",
    "products = {\n",
    "    \"Product A\": {\"stock\": 50, \"sales\": 30},\n",
    "    \"Product B\": {\"stock\": 20, \"sales\": 15},\n",
    "    \"Product C\": {\"stock\": 10, \"sales\": 25},\n",
    "    \"Product D\": {\"stock\": 40, \"sales\": 60},\n",
    "    \"Product E\": {\"stock\": 5, \"sales\": 12},\n",
    "}\n",
    "\n",
    "# Predefined threshold for when a product need to be reordered\n",
    "threshold = 30\n",
    "\n",
    "for product, data in products.items():\n",
    "    if data[\"stock\"] < threshold:\n",
    "        print(f\"{product} needs to be reordered. Current stock: {data['stock']}\")"
   ]
  },
  {
   "cell_type": "code",
   "execution_count": 19,
   "id": "35c077de-f0f5-4383-a399-ef4f5495df9d",
   "metadata": {},
   "outputs": [
    {
     "name": "stdout",
     "output_type": "stream",
     "text": [
      "Cleaned Names for Database Entry:\n",
      "Anita Gupta\n",
      "Kashish Sharma\n",
      "Anmol Singh\n"
     ]
    }
   ],
   "source": [
    "###Task 18: Data Cleaning Utility\n",
    "##Objective: Create a utility to clean customer names for better data consistency.\n",
    "# - Write the code that takes a list of customer names with extra spaces and inconsistent capitalization.\n",
    "# - Clean the names by trimming spaces and standardizing the capitalization (e.g., \"JOHN DOE\" -> \"John Doe\").\n",
    "# - print the cleaned names for database entry.\n",
    "\n",
    "# List of names with inconsistent capitalization\n",
    "names = [\"  Anita   GUPTA \", \"KAshish  sHarmA  \", \"  AnMol SinGH \"]\n",
    "\n",
    "# Clean the names: trimming spaces and standardize capitalization\n",
    "cleaned_names = [\" \".join(name.strip().split()).title() for name in names]\n",
    "\n",
    "# print the cleaned names for database entry\n",
    "print(\"Cleaned Names for Database Entry:\")\n",
    "for name in cleaned_names:\n",
    "    print(name)"
   ]
  },
  {
   "cell_type": "code",
   "execution_count": 11,
   "id": "6c33dac1-7ab4-4e42-a665-40719f84f88c",
   "metadata": {},
   "outputs": [
    {
     "name": "stdout",
     "output_type": "stream",
     "text": [
      "Forecasted Sales for Next Month: 13500.00\n"
     ]
    }
   ],
   "source": [
    "###Task 19: Simple Sales Forecasting\n",
    "##Objective: Implement a basic forecasting model for next month’s sales.\n",
    "# - Based on the average sales of the last 3 months, predict next month’s sales using a simple average.\n",
    "# - Print the forecasted sales figures for budget planning.\n",
    "\n",
    "# Sales data for the last 3 months\n",
    "last_3_months_sales = [12000, 15000, 13500]\n",
    "\n",
    "# Calculate the forecasted sales\n",
    "forecasted_sales = sum(last_3_months_sales) / len(last_3_months_sales)\n",
    "\n",
    "# Print the forecasted sales figure\n",
    "print(f\"Forecasted Sales for Next Month: {forecasted_sales:.2f}\")"
   ]
  },
  {
   "cell_type": "code",
   "execution_count": 21,
   "id": "70e28642-aa2a-4292-9e03-450eff37f210",
   "metadata": {},
   "outputs": [
    {
     "name": "stdout",
     "output_type": "stream",
     "text": [
      "Customer Loyalty Points:\n",
      "Anita: 75 points\n",
      "Babli: 300.0 points\n",
      "Chahat: 1200 points\n",
      "Divyansh: 95 points\n"
     ]
    }
   ],
   "source": [
    "###Task 20: Customer Loyalty Points Calculator\n",
    "##Objective: Calculate loyalty points for customers based on their purchases.\n",
    "# - Write a code that assigns loyalty points to customers based on their total purchase amount.\n",
    "#- Implement a tiered system where different spending levels earn different point multipliers.\n",
    "# - Print the loyalty points for a list of customers.\n",
    "\n",
    "# List of customers and their total purchase amounts\n",
    "customers = {\n",
    "    \"Anita\": 75,\n",
    "    \"Babli\": 200,\n",
    "    \"Chahat\": 600,\n",
    "    \"Divyansh\": 95\n",
    "}\n",
    "# calculate loyalty points based on purchase amount\n",
    "def calculate_loyalty_points(total_purchase):\n",
    "    if total_purchase < 100:\n",
    "        points = total_purchase * 1  \n",
    "    elif total_purchase <= 500:\n",
    "        points = total_purchase * 1.5  \n",
    "    else:\n",
    "        points = total_purchase * 2  \n",
    "    return points\n",
    "\n",
    "# Print the loyalty points for each customer\n",
    "print(\"Customer Loyalty Points:\")\n",
    "for customer, purchase in customers.items():\n",
    "    points = calculate_loyalty_points(purchase)\n",
    "    print(f\"{customer}: {points} points\")\n"
   ]
  },
  {
   "cell_type": "code",
   "execution_count": null,
   "id": "fcabe450-694d-4719-a48a-f94dc94a7784",
   "metadata": {},
   "outputs": [],
   "source": []
  }
 ],
 "metadata": {
  "kernelspec": {
   "display_name": "Python 3 (ipykernel)",
   "language": "python",
   "name": "python3"
  },
  "language_info": {
   "codemirror_mode": {
    "name": "ipython",
    "version": 3
   },
   "file_extension": ".py",
   "mimetype": "text/x-python",
   "name": "python",
   "nbconvert_exporter": "python",
   "pygments_lexer": "ipython3",
   "version": "3.12.4"
  }
 },
 "nbformat": 4,
 "nbformat_minor": 5
}
